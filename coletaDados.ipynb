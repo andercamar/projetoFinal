{
 "cells": [
  {
   "cell_type": "markdown",
   "metadata": {},
   "source": [
    "Importa bibliotecas"
   ]
  },
  {
   "cell_type": "code",
   "execution_count": 40,
   "metadata": {},
   "outputs": [],
   "source": [
    "\n",
    "import pandas as pd\n",
    "import numpy as np\n",
    "import os\n",
    "import json\n",
    "from datetime import datetime\n",
    "import sqlalchemy as sa\n"
   ]
  },
  {
   "cell_type": "markdown",
   "metadata": {},
   "source": [
    "Coleta dados e prepara o dataframe do Arquivo de taxas"
   ]
  },
  {
   "cell_type": "code",
   "execution_count": 2,
   "metadata": {},
   "outputs": [],
   "source": [
    "df_taxas = pd.read_csv(\"Dados/tabela_taxas.csv\")"
   ]
  },
  {
   "cell_type": "code",
   "execution_count": 3,
   "metadata": {},
   "outputs": [
    {
     "name": "stderr",
     "output_type": "stream",
     "text": [
      "C:\\Users\\Anderson\\AppData\\Local\\Temp\\ipykernel_15104\\1309914708.py:1: UserWarning: Could not infer format, so each element will be parsed individually, falling back to `dateutil`. To ensure parsing is consistent and as-expected, please specify a format.\n",
      "  df_taxas['periodo']  = pd.to_datetime(df_taxas['periodo'])\n"
     ]
    }
   ],
   "source": [
    "df_taxas['periodo']  = pd.to_datetime(df_taxas['periodo'])\n",
    "df_taxas['ano_mes']  = df_taxas['periodo'].dt.strftime('%Y/%m')\n",
    "df_taxas['mao_de_obra_indireta'] = pd.to_numeric(df_taxas['mao_de_obra_indireta'])\n",
    "df_taxas['energia'] = pd.to_numeric(df_taxas['energia'])\n",
    "df_taxas['manutencao'] = pd.to_numeric(df_taxas['manutencao'])\n",
    "df_taxas['depreciacao'] = pd.to_numeric(df_taxas['depreciacao'])"
   ]
  },
  {
   "cell_type": "markdown",
   "metadata": {},
   "source": [
    "Coleta dados e prepara o dataframe do Arquivo de Custos"
   ]
  },
  {
   "cell_type": "code",
   "execution_count": 4,
   "metadata": {},
   "outputs": [],
   "source": [
    "df_custos = pd.read_csv(\"Dados/tabela_custos.csv\")"
   ]
  },
  {
   "cell_type": "code",
   "execution_count": 5,
   "metadata": {},
   "outputs": [
    {
     "name": "stderr",
     "output_type": "stream",
     "text": [
      "C:\\Users\\Anderson\\AppData\\Local\\Temp\\ipykernel_15104\\1860566583.py:1: UserWarning: Could not infer format, so each element will be parsed individually, falling back to `dateutil`. To ensure parsing is consistent and as-expected, please specify a format.\n",
      "  df_custos['periodo']  = pd.to_datetime(df_custos['periodo'])\n"
     ]
    }
   ],
   "source": [
    "df_custos['periodo']  = pd.to_datetime(df_custos['periodo'])\n",
    "df_custos['ano_mes']  = df_custos['periodo'].dt.strftime('%Y/%m')\n",
    "df_custos['mao_de_obra'] = pd.to_numeric(df_custos['mao_de_obra'])\n",
    "df_custos['materia_prima'] = pd.to_numeric(df_custos['materia_prima'])\n",
    "df_custos['gasto_geral'] = pd.to_numeric(df_custos['gasto_geral'])"
   ]
  },
  {
   "cell_type": "markdown",
   "metadata": {},
   "source": [
    "Unir dataframes"
   ]
  },
  {
   "cell_type": "code",
   "execution_count": 6,
   "metadata": {},
   "outputs": [
    {
     "data": {
      "text/html": [
       "<div>\n",
       "<style scoped>\n",
       "    .dataframe tbody tr th:only-of-type {\n",
       "        vertical-align: middle;\n",
       "    }\n",
       "\n",
       "    .dataframe tbody tr th {\n",
       "        vertical-align: top;\n",
       "    }\n",
       "\n",
       "    .dataframe thead th {\n",
       "        text-align: right;\n",
       "    }\n",
       "</style>\n",
       "<table border=\"1\" class=\"dataframe\">\n",
       "  <thead>\n",
       "    <tr style=\"text-align: right;\">\n",
       "      <th></th>\n",
       "      <th>cod_item</th>\n",
       "      <th>periodo</th>\n",
       "      <th>mao_de_obra</th>\n",
       "      <th>materia_prima</th>\n",
       "      <th>gasto_geral</th>\n",
       "      <th>ano_mes</th>\n",
       "    </tr>\n",
       "  </thead>\n",
       "  <tbody>\n",
       "    <tr>\n",
       "      <th>0</th>\n",
       "      <td>101</td>\n",
       "      <td>2021-01-01</td>\n",
       "      <td>864.54</td>\n",
       "      <td>163.20</td>\n",
       "      <td>175.16</td>\n",
       "      <td>2021/01</td>\n",
       "    </tr>\n",
       "    <tr>\n",
       "      <th>1</th>\n",
       "      <td>101</td>\n",
       "      <td>2021-02-01</td>\n",
       "      <td>309.56</td>\n",
       "      <td>633.97</td>\n",
       "      <td>405.12</td>\n",
       "      <td>2021/02</td>\n",
       "    </tr>\n",
       "    <tr>\n",
       "      <th>2</th>\n",
       "      <td>101</td>\n",
       "      <td>2021-03-01</td>\n",
       "      <td>496.58</td>\n",
       "      <td>1101.79</td>\n",
       "      <td>64.84</td>\n",
       "      <td>2021/03</td>\n",
       "    </tr>\n",
       "    <tr>\n",
       "      <th>3</th>\n",
       "      <td>101</td>\n",
       "      <td>2021-04-01</td>\n",
       "      <td>232.84</td>\n",
       "      <td>595.31</td>\n",
       "      <td>82.95</td>\n",
       "      <td>2021/04</td>\n",
       "    </tr>\n",
       "    <tr>\n",
       "      <th>4</th>\n",
       "      <td>101</td>\n",
       "      <td>2021-05-01</td>\n",
       "      <td>984.27</td>\n",
       "      <td>1000.81</td>\n",
       "      <td>459.82</td>\n",
       "      <td>2021/05</td>\n",
       "    </tr>\n",
       "  </tbody>\n",
       "</table>\n",
       "</div>"
      ],
      "text/plain": [
       "   cod_item    periodo  mao_de_obra  materia_prima  gasto_geral  ano_mes\n",
       "0       101 2021-01-01       864.54         163.20       175.16  2021/01\n",
       "1       101 2021-02-01       309.56         633.97       405.12  2021/02\n",
       "2       101 2021-03-01       496.58        1101.79        64.84  2021/03\n",
       "3       101 2021-04-01       232.84         595.31        82.95  2021/04\n",
       "4       101 2021-05-01       984.27        1000.81       459.82  2021/05"
      ]
     },
     "execution_count": 6,
     "metadata": {},
     "output_type": "execute_result"
    }
   ],
   "source": [
    "df_custos.head()"
   ]
  },
  {
   "cell_type": "code",
   "execution_count": 7,
   "metadata": {},
   "outputs": [],
   "source": [
    "df_merge = pd.merge(df_custos,df_taxas, on='ano_mes')"
   ]
  },
  {
   "cell_type": "code",
   "execution_count": 8,
   "metadata": {},
   "outputs": [],
   "source": [
    "df_merge = df_merge.drop(columns=[\"periodo_y\"])\n",
    "df_merge = df_merge.rename(columns={'periodo_x':'periodo','cod_item':'cod_produto'})"
   ]
  },
  {
   "cell_type": "code",
   "execution_count": 9,
   "metadata": {},
   "outputs": [
    {
     "data": {
      "text/html": [
       "<div>\n",
       "<style scoped>\n",
       "    .dataframe tbody tr th:only-of-type {\n",
       "        vertical-align: middle;\n",
       "    }\n",
       "\n",
       "    .dataframe tbody tr th {\n",
       "        vertical-align: top;\n",
       "    }\n",
       "\n",
       "    .dataframe thead th {\n",
       "        text-align: right;\n",
       "    }\n",
       "</style>\n",
       "<table border=\"1\" class=\"dataframe\">\n",
       "  <thead>\n",
       "    <tr style=\"text-align: right;\">\n",
       "      <th></th>\n",
       "      <th>cod_produto</th>\n",
       "      <th>periodo</th>\n",
       "      <th>mao_de_obra</th>\n",
       "      <th>materia_prima</th>\n",
       "      <th>gasto_geral</th>\n",
       "      <th>ano_mes</th>\n",
       "      <th>mao_de_obra_indireta</th>\n",
       "      <th>energia</th>\n",
       "      <th>manutencao</th>\n",
       "      <th>depreciacao</th>\n",
       "    </tr>\n",
       "  </thead>\n",
       "  <tbody>\n",
       "    <tr>\n",
       "      <th>0</th>\n",
       "      <td>101</td>\n",
       "      <td>2021-01-01</td>\n",
       "      <td>864.54</td>\n",
       "      <td>163.20</td>\n",
       "      <td>175.16</td>\n",
       "      <td>2021/01</td>\n",
       "      <td>0.384744</td>\n",
       "      <td>0.297201</td>\n",
       "      <td>0.178445</td>\n",
       "      <td>0.139609</td>\n",
       "    </tr>\n",
       "    <tr>\n",
       "      <th>1</th>\n",
       "      <td>102</td>\n",
       "      <td>2021-01-01</td>\n",
       "      <td>830.05</td>\n",
       "      <td>650.47</td>\n",
       "      <td>377.59</td>\n",
       "      <td>2021/01</td>\n",
       "      <td>0.384744</td>\n",
       "      <td>0.297201</td>\n",
       "      <td>0.178445</td>\n",
       "      <td>0.139609</td>\n",
       "    </tr>\n",
       "    <tr>\n",
       "      <th>2</th>\n",
       "      <td>103</td>\n",
       "      <td>2021-01-01</td>\n",
       "      <td>548.86</td>\n",
       "      <td>1222.01</td>\n",
       "      <td>109.75</td>\n",
       "      <td>2021/01</td>\n",
       "      <td>0.384744</td>\n",
       "      <td>0.297201</td>\n",
       "      <td>0.178445</td>\n",
       "      <td>0.139609</td>\n",
       "    </tr>\n",
       "    <tr>\n",
       "      <th>3</th>\n",
       "      <td>104</td>\n",
       "      <td>2021-01-01</td>\n",
       "      <td>928.17</td>\n",
       "      <td>6.48</td>\n",
       "      <td>56.61</td>\n",
       "      <td>2021/01</td>\n",
       "      <td>0.384744</td>\n",
       "      <td>0.297201</td>\n",
       "      <td>0.178445</td>\n",
       "      <td>0.139609</td>\n",
       "    </tr>\n",
       "    <tr>\n",
       "      <th>4</th>\n",
       "      <td>105</td>\n",
       "      <td>2021-01-01</td>\n",
       "      <td>560.99</td>\n",
       "      <td>667.31</td>\n",
       "      <td>497.53</td>\n",
       "      <td>2021/01</td>\n",
       "      <td>0.384744</td>\n",
       "      <td>0.297201</td>\n",
       "      <td>0.178445</td>\n",
       "      <td>0.139609</td>\n",
       "    </tr>\n",
       "  </tbody>\n",
       "</table>\n",
       "</div>"
      ],
      "text/plain": [
       "   cod_produto    periodo  mao_de_obra  materia_prima  gasto_geral  ano_mes  \\\n",
       "0          101 2021-01-01       864.54         163.20       175.16  2021/01   \n",
       "1          102 2021-01-01       830.05         650.47       377.59  2021/01   \n",
       "2          103 2021-01-01       548.86        1222.01       109.75  2021/01   \n",
       "3          104 2021-01-01       928.17           6.48        56.61  2021/01   \n",
       "4          105 2021-01-01       560.99         667.31       497.53  2021/01   \n",
       "\n",
       "   mao_de_obra_indireta   energia  manutencao  depreciacao  \n",
       "0              0.384744  0.297201    0.178445     0.139609  \n",
       "1              0.384744  0.297201    0.178445     0.139609  \n",
       "2              0.384744  0.297201    0.178445     0.139609  \n",
       "3              0.384744  0.297201    0.178445     0.139609  \n",
       "4              0.384744  0.297201    0.178445     0.139609  "
      ]
     },
     "execution_count": 9,
     "metadata": {},
     "output_type": "execute_result"
    }
   ],
   "source": [
    "df_merge.head()"
   ]
  },
  {
   "cell_type": "markdown",
   "metadata": {},
   "source": [
    "Coleta dados e prepara o dataframe do Arquivo de Produtos"
   ]
  },
  {
   "cell_type": "code",
   "execution_count": 10,
   "metadata": {},
   "outputs": [],
   "source": [
    "df_produtos = pd.read_excel(\"Dados/Produto.xlsx\")"
   ]
  },
  {
   "cell_type": "code",
   "execution_count": 11,
   "metadata": {},
   "outputs": [],
   "source": [
    "df_produtos['peso'] = pd.to_numeric(df_produtos['Peso (kg)'])\n",
    "df_produtos['valor_unitario'] = pd.to_numeric(df_produtos['valor_unitario'])\n",
    "df_produtos['cod_produto'] = pd.to_numeric(df_produtos['cod_Produto'])\n",
    "df_produtos = df_produtos.drop(columns=[\"Produto\",\"Categoria\",\"Peso (kg)\",\"cod_Produto\"])"
   ]
  },
  {
   "cell_type": "markdown",
   "metadata": {},
   "source": [
    "Coleta dados e prepara o dataframe do Arquivo de Vendas"
   ]
  },
  {
   "cell_type": "code",
   "execution_count": 12,
   "metadata": {},
   "outputs": [],
   "source": [
    "dataframe = []\n",
    "for file in os.listdir(\"Dados/Vendas\"):\n",
    "    if file.endswith(\".csv\"):\n",
    "        file_path = os.path.join(\"Dados/Vendas\", file)\n",
    "        df_file = pd.read_csv(file_path)\n",
    "        dataframe.append(df_file)\n",
    "df_vendas = pd.concat(dataframe,ignore_index=True)"
   ]
  },
  {
   "cell_type": "code",
   "execution_count": 13,
   "metadata": {},
   "outputs": [],
   "source": [
    "df_vendas['data_venda']  = pd.to_datetime(df_vendas['data_venda'],format='%d-%m-%Y')\n",
    "df_vendas['ano_mes']  = df_vendas['data_venda'].dt.strftime('%Y-%m')\n",
    "df_vendas['valor_imposto'] = pd.to_numeric(df_vendas['valor_imposto'])/100\n",
    "df_vendas['qtd_vendida'] = pd.to_numeric(df_vendas['qtd_vendida'])\n"
   ]
  },
  {
   "cell_type": "markdown",
   "metadata": {},
   "source": [
    "Unir Produtos com Vendas"
   ]
  },
  {
   "cell_type": "code",
   "execution_count": 14,
   "metadata": {},
   "outputs": [],
   "source": [
    "df_vendas_item = pd.merge(df_vendas,df_produtos, on='cod_produto')\n",
    "df_vendas_item['Total'] = df_vendas_item['qtd_vendida'] * df_vendas_item['valor_unitario']\n",
    "df_vendas_item['Total_peso'] = df_vendas_item['qtd_vendida'] * df_vendas_item['peso']\n",
    "df_vendas_item['Total_imposto'] = df_vendas_item['Total'] * df_vendas_item['valor_imposto']\n",
    "df_vendas_item['Total_liquido'] = df_vendas_item['Total'] - df_vendas_item['Total_imposto']\n",
    "df_vendas_item['ano_mes']  = df_vendas_item['data_venda'].dt.strftime('%Y/%m')"
   ]
  },
  {
   "cell_type": "markdown",
   "metadata": {},
   "source": [
    "Unir Produtos_vendas com custos e taxas"
   ]
  },
  {
   "cell_type": "code",
   "execution_count": 15,
   "metadata": {},
   "outputs": [],
   "source": [
    "df_geral = pd.merge(df_vendas_item,df_merge,on=['cod_produto','ano_mes'])"
   ]
  },
  {
   "cell_type": "markdown",
   "metadata": {},
   "source": [
    "Calcula valores"
   ]
  },
  {
   "cell_type": "code",
   "execution_count": 28,
   "metadata": {},
   "outputs": [],
   "source": [
    "df_geral['un_liquido'] = df_geral['Total_liquido']/df_geral['qtd_vendida']\n",
    "df_geral['total_mdo'] = df_geral['mao_de_obra']*df_geral['qtd_vendida']\n",
    "df_geral['total_mp'] = df_geral['materia_prima']*df_geral['qtd_vendida']\n",
    "df_geral['un_mdi'] = df_geral['mao_de_obra_indireta']*df_geral['gasto_geral']\n",
    "df_geral['un_energia'] = df_geral['energia']*df_geral['gasto_geral']\n",
    "df_geral['un_manutencao'] = df_geral['manutencao']*df_geral['gasto_geral']\n",
    "df_geral['un_depreciacao'] = df_geral['depreciacao']*df_geral['gasto_geral']\n",
    "df_geral['total_mdi'] = df_geral['un_mdi']*df_geral['qtd_vendida']\n",
    "df_geral['total_energia'] = df_geral['un_energia']*df_geral['qtd_vendida']\n",
    "df_geral['total_manutencao'] = df_geral['un_manutencao']*df_geral['qtd_vendida']\n",
    "df_geral['total_depreciacao'] = df_geral['un_depreciacao']*df_geral['qtd_vendida']\n",
    "df_geral['un_lucro_bruto'] = df_geral['un_liquido']-df_geral['mao_de_obra']-df_geral['materia_prima']-df_geral['energia']\n",
    "df_geral['lucro_bruto'] = df_geral['un_lucro_bruto']*df_geral['qtd_vendida']\n",
    "df_geral['un_r_financeiro'] =  df_geral['lucro_bruto']-df_geral['un_manutencao']-df_geral['un_mdi']-df_geral['un_depreciacao']\n",
    "df_geral['r_financeiro'] = df_geral['un_r_financeiro']*df_geral['qtd_vendida']"
   ]
  },
  {
   "cell_type": "markdown",
   "metadata": {},
   "source": [
    "Adiciona no banco de dados"
   ]
  },
  {
   "cell_type": "code",
   "execution_count": 45,
   "metadata": {},
   "outputs": [
    {
     "name": "stderr",
     "output_type": "stream",
     "text": [
      "C:\\Users\\Anderson\\AppData\\Local\\Temp\\ipykernel_15104\\2495982108.py:3: UserWarning: pandas only supports SQLAlchemy connectable (engine/connection) or database string URI or sqlite3 DBAPI2 connection. Other DBAPI2 objects are not tested. Please consider using SQLAlchemy.\n",
      "  df_geral.to_sql(table_name, connection, if_exists='replace')\n"
     ]
    },
    {
     "ename": "DatabaseError",
     "evalue": "Execution failed on sql 'SELECT name FROM sqlite_master WHERE type='table' AND name=?;': not all arguments converted during string formatting",
     "output_type": "error",
     "traceback": [
      "\u001b[1;31m---------------------------------------------------------------------------\u001b[0m",
      "\u001b[1;31mTypeError\u001b[0m                                 Traceback (most recent call last)",
      "File \u001b[1;32m~\\AppData\\Roaming\\Python\\Python310\\site-packages\\pandas\\io\\sql.py:2202\u001b[0m, in \u001b[0;36mSQLiteDatabase.execute\u001b[1;34m(self, sql, params)\u001b[0m\n\u001b[0;32m   2201\u001b[0m \u001b[39mtry\u001b[39;00m:\n\u001b[1;32m-> 2202\u001b[0m     cur\u001b[39m.\u001b[39;49mexecute(sql, \u001b[39m*\u001b[39;49margs)\n\u001b[0;32m   2203\u001b[0m     \u001b[39mreturn\u001b[39;00m cur\n",
      "File \u001b[1;32m~\\AppData\\Roaming\\Python\\Python310\\site-packages\\pymysql\\cursors.py:151\u001b[0m, in \u001b[0;36mCursor.execute\u001b[1;34m(self, query, args)\u001b[0m\n\u001b[0;32m    149\u001b[0m     \u001b[39mpass\u001b[39;00m\n\u001b[1;32m--> 151\u001b[0m query \u001b[39m=\u001b[39m \u001b[39mself\u001b[39;49m\u001b[39m.\u001b[39;49mmogrify(query, args)\n\u001b[0;32m    153\u001b[0m result \u001b[39m=\u001b[39m \u001b[39mself\u001b[39m\u001b[39m.\u001b[39m_query(query)\n",
      "File \u001b[1;32m~\\AppData\\Roaming\\Python\\Python310\\site-packages\\pymysql\\cursors.py:129\u001b[0m, in \u001b[0;36mCursor.mogrify\u001b[1;34m(self, query, args)\u001b[0m\n\u001b[0;32m    128\u001b[0m \u001b[39mif\u001b[39;00m args \u001b[39mis\u001b[39;00m \u001b[39mnot\u001b[39;00m \u001b[39mNone\u001b[39;00m:\n\u001b[1;32m--> 129\u001b[0m     query \u001b[39m=\u001b[39m query \u001b[39m%\u001b[39;49m \u001b[39mself\u001b[39;49m\u001b[39m.\u001b[39;49m_escape_args(args, conn)\n\u001b[0;32m    131\u001b[0m \u001b[39mreturn\u001b[39;00m query\n",
      "\u001b[1;31mTypeError\u001b[0m: not all arguments converted during string formatting",
      "\nThe above exception was the direct cause of the following exception:\n",
      "\u001b[1;31mDatabaseError\u001b[0m                             Traceback (most recent call last)",
      "Cell \u001b[1;32mIn[45], line 3\u001b[0m\n\u001b[0;32m      1\u001b[0m connection \u001b[39m=\u001b[39m pymysql\u001b[39m.\u001b[39mconnect(host\u001b[39m=\u001b[39m\u001b[39m'\u001b[39m\u001b[39mlocalhost\u001b[39m\u001b[39m'\u001b[39m, port\u001b[39m=\u001b[39m\u001b[39m3306\u001b[39m, user\u001b[39m=\u001b[39m\u001b[39m'\u001b[39m\u001b[39mroot\u001b[39m\u001b[39m'\u001b[39m, password\u001b[39m=\u001b[39m\u001b[39m'\u001b[39m\u001b[39m'\u001b[39m, db\u001b[39m=\u001b[39m\u001b[39m'\u001b[39m\u001b[39mxpeducacao\u001b[39m\u001b[39m'\u001b[39m)\n\u001b[0;32m      2\u001b[0m table_name \u001b[39m=\u001b[39m \u001b[39m'\u001b[39m\u001b[39mprojetofinal\u001b[39m\u001b[39m'\u001b[39m\n\u001b[1;32m----> 3\u001b[0m df_geral\u001b[39m.\u001b[39;49mto_sql(table_name, connection, if_exists\u001b[39m=\u001b[39;49m\u001b[39m'\u001b[39;49m\u001b[39mreplace\u001b[39;49m\u001b[39m'\u001b[39;49m)\n",
      "File \u001b[1;32m~\\AppData\\Roaming\\Python\\Python310\\site-packages\\pandas\\core\\generic.py:2878\u001b[0m, in \u001b[0;36mNDFrame.to_sql\u001b[1;34m(self, name, con, schema, if_exists, index, index_label, chunksize, dtype, method)\u001b[0m\n\u001b[0;32m   2713\u001b[0m \u001b[39m\u001b[39m\u001b[39m\"\"\"\u001b[39;00m\n\u001b[0;32m   2714\u001b[0m \u001b[39mWrite records stored in a DataFrame to a SQL database.\u001b[39;00m\n\u001b[0;32m   2715\u001b[0m \n\u001b[1;32m   (...)\u001b[0m\n\u001b[0;32m   2874\u001b[0m \u001b[39m[(1,), (None,), (2,)]\u001b[39;00m\n\u001b[0;32m   2875\u001b[0m \u001b[39m\"\"\"\u001b[39;00m  \u001b[39m# noqa:E501\u001b[39;00m\n\u001b[0;32m   2876\u001b[0m \u001b[39mfrom\u001b[39;00m \u001b[39mpandas\u001b[39;00m\u001b[39m.\u001b[39;00m\u001b[39mio\u001b[39;00m \u001b[39mimport\u001b[39;00m sql\n\u001b[1;32m-> 2878\u001b[0m \u001b[39mreturn\u001b[39;00m sql\u001b[39m.\u001b[39;49mto_sql(\n\u001b[0;32m   2879\u001b[0m     \u001b[39mself\u001b[39;49m,\n\u001b[0;32m   2880\u001b[0m     name,\n\u001b[0;32m   2881\u001b[0m     con,\n\u001b[0;32m   2882\u001b[0m     schema\u001b[39m=\u001b[39;49mschema,\n\u001b[0;32m   2883\u001b[0m     if_exists\u001b[39m=\u001b[39;49mif_exists,\n\u001b[0;32m   2884\u001b[0m     index\u001b[39m=\u001b[39;49mindex,\n\u001b[0;32m   2885\u001b[0m     index_label\u001b[39m=\u001b[39;49mindex_label,\n\u001b[0;32m   2886\u001b[0m     chunksize\u001b[39m=\u001b[39;49mchunksize,\n\u001b[0;32m   2887\u001b[0m     dtype\u001b[39m=\u001b[39;49mdtype,\n\u001b[0;32m   2888\u001b[0m     method\u001b[39m=\u001b[39;49mmethod,\n\u001b[0;32m   2889\u001b[0m )\n",
      "File \u001b[1;32m~\\AppData\\Roaming\\Python\\Python310\\site-packages\\pandas\\io\\sql.py:769\u001b[0m, in \u001b[0;36mto_sql\u001b[1;34m(frame, name, con, schema, if_exists, index, index_label, chunksize, dtype, method, engine, **engine_kwargs)\u001b[0m\n\u001b[0;32m    764\u001b[0m     \u001b[39mraise\u001b[39;00m \u001b[39mNotImplementedError\u001b[39;00m(\n\u001b[0;32m    765\u001b[0m         \u001b[39m\"\u001b[39m\u001b[39m'\u001b[39m\u001b[39mframe\u001b[39m\u001b[39m'\u001b[39m\u001b[39m argument should be either a Series or a DataFrame\u001b[39m\u001b[39m\"\u001b[39m\n\u001b[0;32m    766\u001b[0m     )\n\u001b[0;32m    768\u001b[0m \u001b[39mwith\u001b[39;00m pandasSQL_builder(con, schema\u001b[39m=\u001b[39mschema, need_transaction\u001b[39m=\u001b[39m\u001b[39mTrue\u001b[39;00m) \u001b[39mas\u001b[39;00m pandas_sql:\n\u001b[1;32m--> 769\u001b[0m     \u001b[39mreturn\u001b[39;00m pandas_sql\u001b[39m.\u001b[39mto_sql(\n\u001b[0;32m    770\u001b[0m         frame,\n\u001b[0;32m    771\u001b[0m         name,\n\u001b[0;32m    772\u001b[0m         if_exists\u001b[39m=\u001b[39mif_exists,\n\u001b[0;32m    773\u001b[0m         index\u001b[39m=\u001b[39mindex,\n\u001b[0;32m    774\u001b[0m         index_label\u001b[39m=\u001b[39mindex_label,\n\u001b[0;32m    775\u001b[0m         schema\u001b[39m=\u001b[39mschema,\n\u001b[0;32m    776\u001b[0m         chunksize\u001b[39m=\u001b[39mchunksize,\n\u001b[0;32m    777\u001b[0m         dtype\u001b[39m=\u001b[39mdtype,\n\u001b[0;32m    778\u001b[0m         method\u001b[39m=\u001b[39mmethod,\n\u001b[0;32m    779\u001b[0m         engine\u001b[39m=\u001b[39mengine,\n\u001b[0;32m    780\u001b[0m         \u001b[39m*\u001b[39m\u001b[39m*\u001b[39mengine_kwargs,\n\u001b[0;32m    781\u001b[0m     )\n",
      "File \u001b[1;32m~\\AppData\\Roaming\\Python\\Python310\\site-packages\\pandas\\io\\sql.py:2378\u001b[0m, in \u001b[0;36mSQLiteDatabase.to_sql\u001b[1;34m(self, frame, name, if_exists, index, index_label, schema, chunksize, dtype, method, engine, **engine_kwargs)\u001b[0m\n\u001b[0;32m   2367\u001b[0m             \u001b[39mraise\u001b[39;00m \u001b[39mValueError\u001b[39;00m(\u001b[39mf\u001b[39m\u001b[39m\"\u001b[39m\u001b[39m{\u001b[39;00mcol\u001b[39m}\u001b[39;00m\u001b[39m (\u001b[39m\u001b[39m{\u001b[39;00mmy_type\u001b[39m}\u001b[39;00m\u001b[39m) not a string\u001b[39m\u001b[39m\"\u001b[39m)\n\u001b[0;32m   2369\u001b[0m table \u001b[39m=\u001b[39m SQLiteTable(\n\u001b[0;32m   2370\u001b[0m     name,\n\u001b[0;32m   2371\u001b[0m     \u001b[39mself\u001b[39m,\n\u001b[1;32m   (...)\u001b[0m\n\u001b[0;32m   2376\u001b[0m     dtype\u001b[39m=\u001b[39mdtype,\n\u001b[0;32m   2377\u001b[0m )\n\u001b[1;32m-> 2378\u001b[0m table\u001b[39m.\u001b[39;49mcreate()\n\u001b[0;32m   2379\u001b[0m \u001b[39mreturn\u001b[39;00m table\u001b[39m.\u001b[39minsert(chunksize, method)\n",
      "File \u001b[1;32m~\\AppData\\Roaming\\Python\\Python310\\site-packages\\pandas\\io\\sql.py:903\u001b[0m, in \u001b[0;36mSQLTable.create\u001b[1;34m(self)\u001b[0m\n\u001b[0;32m    902\u001b[0m \u001b[39mdef\u001b[39;00m \u001b[39mcreate\u001b[39m(\u001b[39mself\u001b[39m) \u001b[39m-\u001b[39m\u001b[39m>\u001b[39m \u001b[39mNone\u001b[39;00m:\n\u001b[1;32m--> 903\u001b[0m     \u001b[39mif\u001b[39;00m \u001b[39mself\u001b[39;49m\u001b[39m.\u001b[39;49mexists():\n\u001b[0;32m    904\u001b[0m         \u001b[39mif\u001b[39;00m \u001b[39mself\u001b[39m\u001b[39m.\u001b[39mif_exists \u001b[39m==\u001b[39m \u001b[39m\"\u001b[39m\u001b[39mfail\u001b[39m\u001b[39m\"\u001b[39m:\n\u001b[0;32m    905\u001b[0m             \u001b[39mraise\u001b[39;00m \u001b[39mValueError\u001b[39;00m(\u001b[39mf\u001b[39m\u001b[39m\"\u001b[39m\u001b[39mTable \u001b[39m\u001b[39m'\u001b[39m\u001b[39m{\u001b[39;00m\u001b[39mself\u001b[39m\u001b[39m.\u001b[39mname\u001b[39m}\u001b[39;00m\u001b[39m'\u001b[39m\u001b[39m already exists.\u001b[39m\u001b[39m\"\u001b[39m)\n",
      "File \u001b[1;32m~\\AppData\\Roaming\\Python\\Python310\\site-packages\\pandas\\io\\sql.py:889\u001b[0m, in \u001b[0;36mSQLTable.exists\u001b[1;34m(self)\u001b[0m\n\u001b[0;32m    888\u001b[0m \u001b[39mdef\u001b[39;00m \u001b[39mexists\u001b[39m(\u001b[39mself\u001b[39m):\n\u001b[1;32m--> 889\u001b[0m     \u001b[39mreturn\u001b[39;00m \u001b[39mself\u001b[39;49m\u001b[39m.\u001b[39;49mpd_sql\u001b[39m.\u001b[39;49mhas_table(\u001b[39mself\u001b[39;49m\u001b[39m.\u001b[39;49mname, \u001b[39mself\u001b[39;49m\u001b[39m.\u001b[39;49mschema)\n",
      "File \u001b[1;32m~\\AppData\\Roaming\\Python\\Python310\\site-packages\\pandas\\io\\sql.py:2385\u001b[0m, in \u001b[0;36mSQLiteDatabase.has_table\u001b[1;34m(self, name, schema)\u001b[0m\n\u001b[0;32m   2382\u001b[0m wld \u001b[39m=\u001b[39m \u001b[39m\"\u001b[39m\u001b[39m?\u001b[39m\u001b[39m\"\u001b[39m\n\u001b[0;32m   2383\u001b[0m query \u001b[39m=\u001b[39m \u001b[39mf\u001b[39m\u001b[39m\"\u001b[39m\u001b[39mSELECT name FROM sqlite_master WHERE type=\u001b[39m\u001b[39m'\u001b[39m\u001b[39mtable\u001b[39m\u001b[39m'\u001b[39m\u001b[39m AND name=\u001b[39m\u001b[39m{\u001b[39;00mwld\u001b[39m}\u001b[39;00m\u001b[39m;\u001b[39m\u001b[39m\"\u001b[39m\n\u001b[1;32m-> 2385\u001b[0m \u001b[39mreturn\u001b[39;00m \u001b[39mlen\u001b[39m(\u001b[39mself\u001b[39;49m\u001b[39m.\u001b[39;49mexecute(query, [name])\u001b[39m.\u001b[39mfetchall()) \u001b[39m>\u001b[39m \u001b[39m0\u001b[39m\n",
      "File \u001b[1;32m~\\AppData\\Roaming\\Python\\Python310\\site-packages\\pandas\\io\\sql.py:2214\u001b[0m, in \u001b[0;36mSQLiteDatabase.execute\u001b[1;34m(self, sql, params)\u001b[0m\n\u001b[0;32m   2211\u001b[0m     \u001b[39mraise\u001b[39;00m ex \u001b[39mfrom\u001b[39;00m \u001b[39minner_exc\u001b[39;00m\n\u001b[0;32m   2213\u001b[0m ex \u001b[39m=\u001b[39m DatabaseError(\u001b[39mf\u001b[39m\u001b[39m\"\u001b[39m\u001b[39mExecution failed on sql \u001b[39m\u001b[39m'\u001b[39m\u001b[39m{\u001b[39;00msql\u001b[39m}\u001b[39;00m\u001b[39m'\u001b[39m\u001b[39m: \u001b[39m\u001b[39m{\u001b[39;00mexc\u001b[39m}\u001b[39;00m\u001b[39m\"\u001b[39m)\n\u001b[1;32m-> 2214\u001b[0m \u001b[39mraise\u001b[39;00m ex \u001b[39mfrom\u001b[39;00m \u001b[39mexc\u001b[39;00m\n",
      "\u001b[1;31mDatabaseError\u001b[0m: Execution failed on sql 'SELECT name FROM sqlite_master WHERE type='table' AND name=?;': not all arguments converted during string formatting"
     ]
    }
   ],
   "source": [
    "connection = pymysql.connect(host='localhost', port=3306, user='root', password='', db='xpeducacao')\n",
    "table_name = 'projetofinal'\n",
    "df_geral.to_sql(table_name, connection, if_exists='replace')"
   ]
  },
  {
   "cell_type": "code",
   "execution_count": null,
   "metadata": {},
   "outputs": [],
   "source": [
    "df_geral.head(10)"
   ]
  }
 ],
 "metadata": {
  "kernelspec": {
   "display_name": "Python 3",
   "language": "python",
   "name": "python3"
  },
  "language_info": {
   "codemirror_mode": {
    "name": "ipython",
    "version": 3
   },
   "file_extension": ".py",
   "mimetype": "text/x-python",
   "name": "python",
   "nbconvert_exporter": "python",
   "pygments_lexer": "ipython3",
   "version": "3.10.3"
  },
  "orig_nbformat": 4
 },
 "nbformat": 4,
 "nbformat_minor": 2
}
